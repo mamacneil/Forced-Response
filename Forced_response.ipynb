{
	"cells": [
		{
			"cell_type": "markdown",
			"metadata": {
			},
			"source": [
				"# Bayesian implementation of forced-response model in PyMC3\n",
				"\n",
				"### Based on Blair et al. 2015\n"
			]
		},
		{
			"cell_type": "code",
			"execution_count": 1,
			"metadata": {
				"collapsed": true
			},
			"outputs": [

			],
			"source": [
				"# Import python packages\n",
				"%matplotlib inline\n",
				"import pandas as pd\n",
				"import numpy as np\n",
				"import scipy as sp\n",
				"import matplotlib.pyplot as plt\n",
				"import pymc as pm\n",
				"\n",
				"# Helper function\n",
				"def indexall(L):\n",
				"    poo = []\n",
				"    for p in L:\n",
				"        if not p in poo:\n",
				"            poo.append(p)\n",
				"    Ix = np.array([poo.index(p) for p in L])\n",
				"    return poo,Ix"
			]
		},
		{
			"cell_type": "markdown",
			"metadata": {
			},
			"source": [
				"The first step is to simulate known data from which to test the model. According to Blair *et al.*, the forced-response model involves a randomization device that forces a yes with probability $p_{fyes}$, a no with probability $p_{fno}$, and an assumed truthful answer with probability $p_{truthful}=1-p_{fyes}-p_{fno}$. So the first step is to assign these probabilities: "
			]
		},
		{
			"cell_type": "code",
			"execution_count": 2,
			"metadata": {
				"collapsed": false
			},
			"outputs": [

			],
			"source": [
				"# Dice randomizer setup in Blair et al.\n",
				"p_fyes = 1/6\n",
				"p_fno = 1/6\n",
				"p_truth = 1-p_fyes-p_fno\n",
				"randomizer = np.array([p_fyes,p_fno,p_truth])\n",
				"\n",
				"# True underlying probability of yes\n",
				"p_interest = 0.34\n",
				"\n",
				"# Number of observations\n",
				"nobs = 250"
			]
		},
		{
			"cell_type": "markdown",
			"metadata": {
			},
			"source": [
				"In Blair's description, they use $Z_i$ to represent the true (unobserved, latent) distribution of yes ($=1$) and no ($=0$) in the population. So we'll first simulate this from the data:"
			]
		},
		{
			"cell_type": "code",
			"execution_count": 3,
			"metadata": {
				"collapsed": false
			},
			"outputs": [
				{
					"data": {
						"text/plain": [
							"array([1, 0, 0, 1, 0, 0, 0, 0, 0, 0, 1, 0, 0, 0, 0, 0, 0, 1, 0, 0, 1, 1, 0,\n",
							"       0, 0, 1, 1, 0, 0, 1, 0, 1, 0, 1, 0, 0, 0, 1, 0, 1, 0, 0, 0, 0, 1, 0,\n",
							"       0, 0, 1, 0, 0, 0, 1, 0, 0, 0, 0, 1, 0, 1, 1, 0, 0, 0, 0, 1, 1, 0, 1,\n",
							"       0, 1, 0, 0, 0, 0, 1, 0, 0, 0, 0, 0, 0, 0, 0, 0, 0, 1, 0, 1, 0, 0, 1,\n",
							"       0, 0, 0, 1, 0, 0, 0, 1, 1, 0, 0, 0, 0, 1, 0, 1, 0, 0, 0, 1, 1, 1, 0,\n",
							"       0, 0, 0, 0, 0, 0, 0, 1, 0, 1, 0, 0, 0, 0, 1, 0, 0, 0, 1, 0, 0, 1, 0,\n",
							"       0, 1, 0, 1, 1, 1, 1, 1, 0, 0, 0, 0, 0, 0, 0, 1, 1, 0, 1, 0, 0, 0, 1,\n",
							"       1, 0, 1, 0, 1, 0, 1, 0, 0, 0, 0, 1, 1, 1, 0, 0, 0, 0, 0, 0, 0, 0, 1,\n",
							"       0, 0, 0, 1, 0, 0, 0, 0, 1, 0, 1, 0, 1, 0, 0, 0, 1, 0, 0, 0, 1, 0, 0,\n",
							"       1, 1, 1, 0, 0, 0, 0, 1, 1, 0, 0, 0, 0, 0, 0, 0, 1, 0, 0, 0, 0, 0, 0,\n",
							"       0, 0, 1, 0, 0, 1, 1, 1, 0, 0, 0, 0, 0, 1, 0, 0, 0, 1, 0, 0])"
						]
					},
					"execution_count": 3,
					"metadata": {
					},
					"output_type": "execute_result"
				}
			],
			"source": [
				"# Latent truth\n",
				"Zi = np.random.binomial(n=1, p=p_interest, size=nobs)\n",
				"Zi"
			]
		},
		{
			"cell_type": "markdown",
			"metadata": {
			},
			"source": [
				"The next step is to transform $Z_i$ into fake observations using the known randomizer probabilities:"
			]
		},
		{
			"cell_type": "code",
			"execution_count": 4,
			"metadata": {
				"collapsed": false
			},
			"outputs": [
				{
					"data": {
						"text/plain": [
							"array([ 1,  0,  0,  0,  0,  1,  0, -1,  0,  0,  0,  0,  0,  0, -1,  1,  0,\n",
							"        0,  0,  0, -1,  1,  0,  0,  0,  0,  0, -1,  0,  0,  0,  0, -1,  0,\n",
							"        0,  0, -1, -1, -1,  0,  0,  0, -1,  0,  1,  1,  0,  0,  0,  0,  0,\n",
							"        0, -1, -1, -1, -1,  0,  0,  0,  0,  0,  0,  0, -1, -1,  0,  0,  1,\n",
							"        0,  0,  0,  0,  0,  0,  0, -1,  0, -1,  0,  0,  0,  1, -1,  1, -1,\n",
							"        1,  1,  0,  0, -1,  0,  0,  1,  1,  0,  0,  0,  0,  0,  0,  0,  0,\n",
							"        0,  0,  1,  1, -1,  0,  0, -1,  0,  1,  1,  0,  1, -1,  0,  0,  0,\n",
							"        1, -1,  0,  0,  0, -1,  1,  0,  1,  1,  1,  0,  0,  0, -1, -1,  0,\n",
							"        0,  0,  0,  0,  0,  0,  0,  0,  0,  0,  0,  0,  1,  0,  0,  0,  0,\n",
							"        0,  0,  0,  0, -1, -1,  0,  0,  0,  1,  0, -1,  0,  0,  0,  0,  0,\n",
							"        1,  0,  0,  0,  0,  0, -1,  0,  0,  0,  0,  1,  0,  1,  0,  1,  0,\n",
							"        0,  0,  1,  0,  0,  0,  0,  0,  0, -1,  0,  1,  1,  0,  0,  0,  0,\n",
							"        1,  1,  0,  0,  0,  0,  0,  0,  0, -1,  1,  0, -1,  0,  0,  0,  1,\n",
							"        1, -1,  0,  0,  0, -1,  0,  1,  0,  0,  0,  0,  0,  0,  0, -1,  0,\n",
							"        0,  0, -1,  0, -1,  0,  0, -1, -1,  0, -1,  0])"
						]
					},
					"execution_count": 4,
					"metadata": {
					},
					"output_type": "execute_result"
				}
			],
			"source": [
				"# Create forced no and yes array\n",
				"randp = np.random.multinomial(1, randomizer, size=nobs)\n",
				"Ri = np.array([np.array([1,-1,0])[x==1] for x in randp]).reshape(1,nobs)[0]\n",
				"Ri"
			]
		},
		{
			"cell_type": "code",
			"execution_count": 5,
			"metadata": {
				"collapsed": false
			},
			"outputs": [
				{
					"data": {
						"text/plain": [
							"array([1, 0, 0, 1, 0, 1, 0, 0, 0, 0, 1, 0, 0, 0, 0, 1, 0, 1, 0, 0, 0, 1, 0,\n",
							"       0, 0, 1, 1, 0, 0, 1, 0, 1, 0, 1, 0, 0, 0, 0, 0, 1, 0, 0, 0, 0, 1, 1,\n",
							"       0, 0, 1, 0, 0, 0, 0, 0, 0, 0, 0, 1, 0, 1, 1, 0, 0, 0, 0, 1, 1, 1, 1,\n",
							"       0, 1, 0, 0, 0, 0, 0, 0, 0, 0, 0, 0, 1, 0, 1, 0, 1, 1, 0, 1, 0, 0, 1,\n",
							"       1, 1, 0, 1, 0, 0, 0, 1, 1, 0, 0, 0, 1, 1, 0, 1, 0, 0, 0, 1, 1, 1, 1,\n",
							"       0, 0, 0, 0, 1, 0, 0, 1, 0, 0, 1, 0, 1, 1, 1, 0, 0, 0, 0, 0, 0, 1, 0,\n",
							"       0, 1, 0, 1, 1, 1, 1, 1, 0, 0, 1, 0, 0, 0, 0, 1, 1, 0, 1, 0, 0, 0, 1,\n",
							"       1, 1, 1, 0, 1, 0, 1, 0, 0, 1, 0, 1, 1, 1, 0, 0, 0, 0, 0, 0, 1, 0, 1,\n",
							"       0, 1, 0, 1, 0, 1, 0, 0, 1, 0, 1, 0, 0, 0, 1, 1, 1, 0, 0, 0, 1, 1, 0,\n",
							"       1, 1, 1, 0, 0, 0, 0, 1, 1, 0, 0, 0, 0, 1, 1, 0, 1, 0, 0, 0, 0, 1, 0,\n",
							"       0, 0, 1, 0, 0, 1, 0, 1, 0, 0, 0, 0, 0, 1, 0, 0, 0, 1, 0, 0])"
						]
					},
					"execution_count": 5,
					"metadata": {
					},
					"output_type": "execute_result"
				}
			],
			"source": [
				"# Observed data\n",
				"Yobs = 1*((Zi+Ri)>0)\n",
				"Yobs"
			]
		},
		{
			"cell_type": "markdown",
			"metadata": {
			},
			"source": [
				"Now that we have known data with 1/6 probabilities of false yes and no responses, we can build a statistical model to see if we can recover the true probability of yes."
			]
		},
		{
			"cell_type": "code",
			"execution_count": 6,
			"metadata": {
				"collapsed": false
			},
			"outputs": [

			],
			"source": [
				"# True probability of yes\n",
				"P_yes = pm.Beta('P_yes',alpha=1,beta=1)\n",
				"\n",
				"# Mean model\n",
				"p_mu = pm.Lambda('p_mu', lambda p=P_yes: p_truth*P_yes+p_fyes)\n",
				"\n",
				"# Likelihood\n",
				"Yi = pm.Bernoulli('Yi', p=p_mu, value=Yobs, observed=True)"
			]
		},
		{
			"cell_type": "code",
			"execution_count": 7,
			"metadata": {
				"collapsed": false
			},
			"outputs": [

			],
			"source": [
				"M = pm.MCMC(locals())"
			]
		},
		{
			"cell_type": "code",
			"execution_count": 8,
			"metadata": {
				"collapsed": false
			},
			"outputs": [
				{
					"name": "stdout",
					"output_type": "stream",
					"text": [
						" [-----------------100%-----------------] 10000 of 10000 complete in 3.5 sec"
					]
				}
			],
			"source": [
				"M.sample(10000,9000)\n",
				"M.sample(10000,9000)"
			]
		},
		{
			"cell_type": "code",
			"execution_count": 9,
			"metadata": {
				"collapsed": false
			},
			"outputs": [
				{
					"name": "stdout",
					"output_type": "stream",
					"text": [
						"Plotting P_yes\n"
					]
				},
				{
					"data": {
						"image/png": "[encoded data removed]",
						"text/plain": [
							"<matplotlib.figure.Figure at 0x10374cc50>"
						]
					},
					"metadata": {
					},
					"output_type": "display_data"
				}
			],
			"source": [
				"pm.Matplot.plot(P_yes)"
			]
		},
		{
			"cell_type": "code",
			"execution_count": 10,
			"metadata": {
				"collapsed": false
			},
			"outputs": [
				{
					"data": {
						"image/png": "[encoded data removed]",
						"text/plain": [
							"<matplotlib.figure.Figure at 0x12dfe4438>"
						]
					},
					"metadata": {
					},
					"output_type": "display_data"
				}
			],
			"source": [
				"pm.Matplot.summary_plot(P_yes, vline_pos=p_interest)"
			]
		},
		{
			"cell_type": "markdown",
			"metadata": {
			},
			"source": [
				"So from this we have a model framwork for analyzing a forced response design - covariates in a linear model can be readily added to 'P_yes' using a logit link."
			]
		}
	],
	"metadata": {
		"kernelspec": {
			"display_name": "Python 3",
			"language": "python",
			"name": "python3"
		},
		"language_info": {
			"codemirror_mode": {
				"name": "ipython",
				"version": 3
			},
			"file_extension": ".py",
			"mimetype": "text/x-python",
			"name": "python",
			"nbconvert_exporter": "python",
			"pygments_lexer": "ipython3",
			"version": "3.5.1"
		}
	},
	"nbformat": 4,
	"nbformat_minor": 0
}